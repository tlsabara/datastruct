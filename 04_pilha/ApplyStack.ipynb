{
 "cells": [
  {
   "cell_type": "code",
   "outputs": [],
   "source": [
    "from bases import Stacks"
   ],
   "metadata": {
    "collapsed": false,
    "ExecuteTime": {
     "end_time": "2024-03-10T01:59:07.536970200Z",
     "start_time": "2024-03-10T01:59:07.339744900Z"
    }
   },
   "id": "6d4fcc39406b6d45",
   "execution_count": 1
  },
  {
   "cell_type": "markdown",
   "source": [
    "# Aplicando a Pilha na validação de expressões\n",
    "\n",
    "Devem ser validados os blocos de código de uma expressão.\n",
    "Deve-se usar parenteses e colchetes para delimitar o bloco.\n",
    "\n"
   ],
   "metadata": {
    "collapsed": false
   },
   "id": "ee5ecef266a937fa"
  },
  {
   "cell_type": "code",
   "outputs": [],
   "source": [
    "control = {\n",
    "    '(': {\n",
    "        'act': 'stack_up'\n",
    "    },\n",
    "    ')': {\n",
    "        'act': 'stack_down',\n",
    "        'expected_value': '('\n",
    "    },\n",
    "    '[': {\n",
    "        'act': 'stack_up'\n",
    "    },\n",
    "    ']': {\n",
    "        'act': 'stack_down',\n",
    "        'expected_value': '['\n",
    "    },\n",
    "    '{': {\n",
    "        'act': 'stack_up'\n",
    "    },\n",
    "    '}': {\n",
    "        'act': 'stack_down',\n",
    "        'expected_value': '{'\n",
    "    }\n",
    "}"
   ],
   "metadata": {
    "collapsed": false,
    "ExecuteTime": {
     "end_time": "2024-03-10T01:59:07.753608400Z",
     "start_time": "2024-03-10T01:59:07.707464500Z"
    }
   },
   "id": "21069e7534dac311",
   "execution_count": 2
  },
  {
   "cell_type": "code",
   "outputs": [],
   "source": [
    "def validate_expression(expression):\n",
    "    stack = Stacks(100)\n",
    "    for char in expression:\n",
    "        if char in control.keys():\n",
    "            if control[char]['act'] == 'stack_up':\n",
    "                stack.stack_up(char)\n",
    "            elif control[char]['act'] == 'stack_down':\n",
    "                if control[char]['expected_value'] == stack.lookup_top():\n",
    "                    stack.unstack()\n",
    "                else:\n",
    "                    break\n",
    "    if stack.is_empty():\n",
    "        return True\n",
    "    else:\n",
    "        raise Exception('Invalid expression')"
   ],
   "metadata": {
    "collapsed": false,
    "ExecuteTime": {
     "end_time": "2024-03-10T02:00:59.174530900Z",
     "start_time": "2024-03-10T02:00:59.147531500Z"
    }
   },
   "id": "76fb2f209b88312e",
   "execution_count": 13
  },
  {
   "cell_type": "code",
   "outputs": [
    {
     "data": {
      "text/plain": "True"
     },
     "execution_count": 14,
     "metadata": {},
     "output_type": "execute_result"
    }
   ],
   "source": [
    "validate_expression('(3+2)[(3+2)]')"
   ],
   "metadata": {
    "collapsed": false,
    "ExecuteTime": {
     "end_time": "2024-03-10T02:00:59.749065300Z",
     "start_time": "2024-03-10T02:00:59.741601Z"
    }
   },
   "id": "db9f4d0da2cf09f3",
   "execution_count": 14
  },
  {
   "cell_type": "code",
   "outputs": [
    {
     "ename": "Exception",
     "evalue": "Invalid expression",
     "output_type": "error",
     "traceback": [
      "\u001B[0;31m---------------------------------------------------------------------------\u001B[0m",
      "\u001B[0;31mException\u001B[0m                                 Traceback (most recent call last)",
      "Cell \u001B[0;32mIn[15], line 1\u001B[0m\n\u001B[0;32m----> 1\u001B[0m \u001B[43mvalidate_expression\u001B[49m\u001B[43m(\u001B[49m\u001B[38;5;124;43m'\u001B[39;49m\u001B[38;5;124;43m(3+2)[(3\u001B[39;49m\u001B[38;5;124;43m{\u001B[39;49m\u001B[38;5;124;43m+2)]\u001B[39;49m\u001B[38;5;124;43m'\u001B[39;49m\u001B[43m)\u001B[49m\n",
      "Cell \u001B[0;32mIn[13], line 15\u001B[0m, in \u001B[0;36mvalidate_expression\u001B[0;34m(expression)\u001B[0m\n\u001B[1;32m     13\u001B[0m     \u001B[38;5;28;01mreturn\u001B[39;00m \u001B[38;5;28;01mTrue\u001B[39;00m\n\u001B[1;32m     14\u001B[0m \u001B[38;5;28;01melse\u001B[39;00m:\n\u001B[0;32m---> 15\u001B[0m     \u001B[38;5;28;01mraise\u001B[39;00m \u001B[38;5;167;01mException\u001B[39;00m(\u001B[38;5;124m'\u001B[39m\u001B[38;5;124mInvalid expression\u001B[39m\u001B[38;5;124m'\u001B[39m)\n",
      "\u001B[0;31mException\u001B[0m: Invalid expression"
     ]
    }
   ],
   "source": [
    "validate_expression('(3+2)[(3{+2)]')"
   ],
   "metadata": {
    "collapsed": false,
    "ExecuteTime": {
     "end_time": "2024-03-10T02:00:59.924252900Z",
     "start_time": "2024-03-10T02:00:59.910717700Z"
    }
   },
   "id": "8064f182bbbec2b6",
   "execution_count": 15
  },
  {
   "cell_type": "code",
   "outputs": [
    {
     "ename": "IndexError",
     "evalue": "Stack is empty",
     "output_type": "error",
     "traceback": [
      "\u001B[0;31m---------------------------------------------------------------------------\u001B[0m",
      "\u001B[0;31mIndexError\u001B[0m                                Traceback (most recent call last)",
      "Cell \u001B[0;32mIn[16], line 1\u001B[0m\n\u001B[0;32m----> 1\u001B[0m \u001B[43mvalidate_expression\u001B[49m\u001B[43m(\u001B[49m\u001B[38;5;124;43m'\u001B[39;49m\u001B[38;5;124;43m(3+2)[(3+2)]]\u001B[39;49m\u001B[38;5;124;43m'\u001B[39;49m\u001B[43m)\u001B[49m\n",
      "Cell \u001B[0;32mIn[13], line 8\u001B[0m, in \u001B[0;36mvalidate_expression\u001B[0;34m(expression)\u001B[0m\n\u001B[1;32m      6\u001B[0m     stack\u001B[38;5;241m.\u001B[39mstack_up(char)\n\u001B[1;32m      7\u001B[0m \u001B[38;5;28;01melif\u001B[39;00m control[char][\u001B[38;5;124m'\u001B[39m\u001B[38;5;124mact\u001B[39m\u001B[38;5;124m'\u001B[39m] \u001B[38;5;241m==\u001B[39m \u001B[38;5;124m'\u001B[39m\u001B[38;5;124mstack_down\u001B[39m\u001B[38;5;124m'\u001B[39m:\n\u001B[0;32m----> 8\u001B[0m     \u001B[38;5;28;01mif\u001B[39;00m control[char][\u001B[38;5;124m'\u001B[39m\u001B[38;5;124mexpected_value\u001B[39m\u001B[38;5;124m'\u001B[39m] \u001B[38;5;241m==\u001B[39m \u001B[43mstack\u001B[49m\u001B[38;5;241;43m.\u001B[39;49m\u001B[43mlookup_top\u001B[49m\u001B[43m(\u001B[49m\u001B[43m)\u001B[49m:\n\u001B[1;32m      9\u001B[0m         stack\u001B[38;5;241m.\u001B[39munstack()\n\u001B[1;32m     10\u001B[0m     \u001B[38;5;28;01melse\u001B[39;00m:\n",
      "File \u001B[0;32m~/git_unix/datastruct/04_pilha/bases.py:60\u001B[0m, in \u001B[0;36mStacks.lookup_top\u001B[0;34m(self)\u001B[0m\n\u001B[1;32m     58\u001B[0m     \u001B[38;5;28;01mreturn\u001B[39;00m \u001B[38;5;28mself\u001B[39m\u001B[38;5;241m.\u001B[39m__values[\u001B[38;5;28mself\u001B[39m\u001B[38;5;241m.\u001B[39m__top_pos]\n\u001B[1;32m     59\u001B[0m \u001B[38;5;28;01melse\u001B[39;00m:\n\u001B[0;32m---> 60\u001B[0m     \u001B[38;5;28;01mraise\u001B[39;00m \u001B[38;5;167;01mIndexError\u001B[39;00m(\u001B[38;5;124m\"\u001B[39m\u001B[38;5;124mStack is empty\u001B[39m\u001B[38;5;124m\"\u001B[39m)\n",
      "\u001B[0;31mIndexError\u001B[0m: Stack is empty"
     ]
    }
   ],
   "source": [
    "validate_expression('(3+2)[(3+2)]]')"
   ],
   "metadata": {
    "collapsed": false,
    "ExecuteTime": {
     "end_time": "2024-03-10T02:01:00.120867300Z",
     "start_time": "2024-03-10T02:01:00.113976100Z"
    }
   },
   "id": "f67ae9c790af8c10",
   "execution_count": 16
  },
  {
   "cell_type": "code",
   "outputs": [
    {
     "ename": "IndexError",
     "evalue": "Stack is empty",
     "output_type": "error",
     "traceback": [
      "\u001B[0;31m---------------------------------------------------------------------------\u001B[0m",
      "\u001B[0;31mIndexError\u001B[0m                                Traceback (most recent call last)",
      "Cell \u001B[0;32mIn[17], line 1\u001B[0m\n\u001B[0;32m----> 1\u001B[0m \u001B[43mvalidate_expression\u001B[49m\u001B[43m(\u001B[49m\u001B[38;5;124;43m'\u001B[39;49m\u001B[38;5;124;43m(3+2)[(3+2)]]\u001B[39;49m\u001B[38;5;124;43m'\u001B[39;49m\u001B[43m)\u001B[49m\n",
      "Cell \u001B[0;32mIn[13], line 8\u001B[0m, in \u001B[0;36mvalidate_expression\u001B[0;34m(expression)\u001B[0m\n\u001B[1;32m      6\u001B[0m     stack\u001B[38;5;241m.\u001B[39mstack_up(char)\n\u001B[1;32m      7\u001B[0m \u001B[38;5;28;01melif\u001B[39;00m control[char][\u001B[38;5;124m'\u001B[39m\u001B[38;5;124mact\u001B[39m\u001B[38;5;124m'\u001B[39m] \u001B[38;5;241m==\u001B[39m \u001B[38;5;124m'\u001B[39m\u001B[38;5;124mstack_down\u001B[39m\u001B[38;5;124m'\u001B[39m:\n\u001B[0;32m----> 8\u001B[0m     \u001B[38;5;28;01mif\u001B[39;00m control[char][\u001B[38;5;124m'\u001B[39m\u001B[38;5;124mexpected_value\u001B[39m\u001B[38;5;124m'\u001B[39m] \u001B[38;5;241m==\u001B[39m \u001B[43mstack\u001B[49m\u001B[38;5;241;43m.\u001B[39;49m\u001B[43mlookup_top\u001B[49m\u001B[43m(\u001B[49m\u001B[43m)\u001B[49m:\n\u001B[1;32m      9\u001B[0m         stack\u001B[38;5;241m.\u001B[39munstack()\n\u001B[1;32m     10\u001B[0m     \u001B[38;5;28;01melse\u001B[39;00m:\n",
      "File \u001B[0;32m~/git_unix/datastruct/04_pilha/bases.py:60\u001B[0m, in \u001B[0;36mStacks.lookup_top\u001B[0;34m(self)\u001B[0m\n\u001B[1;32m     58\u001B[0m     \u001B[38;5;28;01mreturn\u001B[39;00m \u001B[38;5;28mself\u001B[39m\u001B[38;5;241m.\u001B[39m__values[\u001B[38;5;28mself\u001B[39m\u001B[38;5;241m.\u001B[39m__top_pos]\n\u001B[1;32m     59\u001B[0m \u001B[38;5;28;01melse\u001B[39;00m:\n\u001B[0;32m---> 60\u001B[0m     \u001B[38;5;28;01mraise\u001B[39;00m \u001B[38;5;167;01mIndexError\u001B[39;00m(\u001B[38;5;124m\"\u001B[39m\u001B[38;5;124mStack is empty\u001B[39m\u001B[38;5;124m\"\u001B[39m)\n",
      "\u001B[0;31mIndexError\u001B[0m: Stack is empty"
     ]
    }
   ],
   "source": [
    "validate_expression('(3+2)[(3+2)]]')"
   ],
   "metadata": {
    "collapsed": false,
    "ExecuteTime": {
     "end_time": "2024-03-10T02:01:00.947837100Z",
     "start_time": "2024-03-10T02:01:00.788103800Z"
    }
   },
   "id": "bfaff40f023399f3",
   "execution_count": 17
  },
  {
   "cell_type": "code",
   "outputs": [],
   "source": [],
   "metadata": {
    "collapsed": false
   },
   "id": "6e07ccf49e700d7d"
  }
 ],
 "metadata": {
  "kernelspec": {
   "display_name": "Python 3",
   "language": "python",
   "name": "python3"
  },
  "language_info": {
   "codemirror_mode": {
    "name": "ipython",
    "version": 2
   },
   "file_extension": ".py",
   "mimetype": "text/x-python",
   "name": "python",
   "nbconvert_exporter": "python",
   "pygments_lexer": "ipython2",
   "version": "2.7.6"
  }
 },
 "nbformat": 4,
 "nbformat_minor": 5
}
