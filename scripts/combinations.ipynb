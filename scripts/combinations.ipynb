{
 "cells": [
  {
   "cell_type": "code",
   "execution_count": 2,
   "id": "initial_id",
   "metadata": {
    "collapsed": true,
    "ExecuteTime": {
     "end_time": "2023-10-05T02:56:17.181076500Z",
     "start_time": "2023-10-05T02:56:17.174078500Z"
    }
   },
   "outputs": [],
   "source": [
    "data = [\n",
    "    [3, 20, 22, 37, 41, 43],\n",
    "    [2, 16, 24, 38, 43, 59],\n",
    "    [4, 13, 21, 25, 47, 51],\n",
    "]\n",
    "\n",
    "flat_data = {a for i in data for a in i}"
   ]
  },
  {
   "cell_type": "code",
   "execution_count": 3,
   "outputs": [
    {
     "data": {
      "text/plain": "{2, 3, 4, 13, 16, 20, 21, 22, 24, 25, 37, 38, 41, 43, 47, 51, 59}"
     },
     "execution_count": 3,
     "metadata": {},
     "output_type": "execute_result"
    }
   ],
   "source": [
    "flat_data"
   ],
   "metadata": {
    "collapsed": false,
    "ExecuteTime": {
     "end_time": "2023-10-05T02:56:17.323137800Z",
     "start_time": "2023-10-05T02:56:17.318128800Z"
    }
   },
   "id": "5f92ce32902e5d74"
  },
  {
   "cell_type": "code",
   "execution_count": 78,
   "outputs": [
    {
     "data": {
      "text/plain": "17"
     },
     "execution_count": 78,
     "metadata": {},
     "output_type": "execute_result"
    }
   ],
   "source": [
    "len(flat_data)"
   ],
   "metadata": {
    "collapsed": false,
    "ExecuteTime": {
     "end_time": "2023-10-05T04:45:52.674242100Z",
     "start_time": "2023-10-05T04:45:52.648078900Z"
    }
   },
   "id": "9c6c2dfe805ce49c"
  },
  {
   "cell_type": "code",
   "execution_count": 4,
   "outputs": [],
   "source": [
    "from itertools import combinations\n",
    "\n",
    "perm = list(combinations(flat_data, 7))"
   ],
   "metadata": {
    "collapsed": false,
    "ExecuteTime": {
     "end_time": "2023-10-05T02:56:17.505284400Z",
     "start_time": "2023-10-05T02:56:17.503288200Z"
    }
   },
   "id": "ba4e8acabd2a4795"
  },
  {
   "cell_type": "code",
   "execution_count": 52,
   "outputs": [],
   "source": [
    "ids = [\"_\".join([str(i) for i in a]) for a in perm]"
   ],
   "metadata": {
    "collapsed": false,
    "ExecuteTime": {
     "end_time": "2023-10-05T03:29:18.357452400Z",
     "start_time": "2023-10-05T03:29:18.324941900Z"
    }
   },
   "id": "288d7e331e7f629a"
  },
  {
   "cell_type": "code",
   "execution_count": 12,
   "outputs": [],
   "source": [
    "excel_mega = r\"mega_sena_asloterias_ate_concurso_2640_crescente.xlsx\"\n",
    "\n"
   ],
   "metadata": {
    "collapsed": false,
    "ExecuteTime": {
     "end_time": "2023-10-05T03:02:08.948068300Z",
     "start_time": "2023-10-05T03:02:08.867548700Z"
    }
   },
   "id": "acdd23b0fee46726"
  },
  {
   "cell_type": "code",
   "execution_count": 13,
   "outputs": [],
   "source": [
    "import pandas as pd"
   ],
   "metadata": {
    "collapsed": false,
    "ExecuteTime": {
     "end_time": "2023-10-05T03:02:09.119928Z",
     "start_time": "2023-10-05T03:02:09.097940100Z"
    }
   },
   "id": "adfd5ac12c4da2f9"
  },
  {
   "cell_type": "code",
   "execution_count": 15,
   "outputs": [],
   "source": [
    "df = pd.read_excel(excel_mega)"
   ],
   "metadata": {
    "collapsed": false,
    "ExecuteTime": {
     "end_time": "2023-10-05T03:02:29.255793100Z",
     "start_time": "2023-10-05T03:02:28.948765300Z"
    }
   },
   "id": "4b03cded3b3816d3"
  },
  {
   "cell_type": "code",
   "execution_count": 22,
   "outputs": [],
   "source": [
    "df = df[5:]"
   ],
   "metadata": {
    "collapsed": false,
    "ExecuteTime": {
     "end_time": "2023-10-05T03:04:17.849256400Z",
     "start_time": "2023-10-05T03:04:17.821051900Z"
    }
   },
   "id": "e0a6950e03b99f68"
  },
  {
   "cell_type": "code",
   "execution_count": 33,
   "outputs": [],
   "source": [
    "df.columns = q,w,e,r,t,y,u,i = df.loc[5]"
   ],
   "metadata": {
    "collapsed": false,
    "ExecuteTime": {
     "end_time": "2023-10-05T03:07:05.736055600Z",
     "start_time": "2023-10-05T03:07:05.669051Z"
    }
   },
   "id": "6452f0cbdf0fd92c"
  },
  {
   "cell_type": "code",
   "execution_count": 36,
   "outputs": [],
   "source": [
    "df = df[6:]"
   ],
   "metadata": {
    "collapsed": false,
    "ExecuteTime": {
     "end_time": "2023-10-05T03:07:24.865492700Z",
     "start_time": "2023-10-05T03:07:24.841358Z"
    }
   },
   "id": "29ee722b2a0632fd"
  },
  {
   "cell_type": "code",
   "execution_count": 37,
   "outputs": [
    {
     "data": {
      "text/plain": "5    Concurso        Data bola 1 bola 2 bola 3 bola 4 bola 5 bola 6\n17       2629  05/09/2023     11     32     35     40     41     48\n18       2628  02/09/2023      5     14     32     40     53     54\n19       2627  31/08/2023     13     25     31     43     57     58\n20       2626  29/08/2023      1      9     13     16     52     59\n21       2625  26/08/2023      9     10     35     44     55     58\n...       ...         ...    ...    ...    ...    ...    ...    ...\n2641        5  08/04/1996      1      2      6     16     19     46\n2642        4  01/04/1996      1      5      6     27     42     59\n2643        3  25/03/1996     10     11     29     30     36     47\n2644        2  18/03/1996      9     37     39     41     43     49\n2645        1  11/03/1996      4      5     30     33     41     52\n\n[2629 rows x 8 columns]",
      "text/html": "<div>\n<style scoped>\n    .dataframe tbody tr th:only-of-type {\n        vertical-align: middle;\n    }\n\n    .dataframe tbody tr th {\n        vertical-align: top;\n    }\n\n    .dataframe thead th {\n        text-align: right;\n    }\n</style>\n<table border=\"1\" class=\"dataframe\">\n  <thead>\n    <tr style=\"text-align: right;\">\n      <th>5</th>\n      <th>Concurso</th>\n      <th>Data</th>\n      <th>bola 1</th>\n      <th>bola 2</th>\n      <th>bola 3</th>\n      <th>bola 4</th>\n      <th>bola 5</th>\n      <th>bola 6</th>\n    </tr>\n  </thead>\n  <tbody>\n    <tr>\n      <th>17</th>\n      <td>2629</td>\n      <td>05/09/2023</td>\n      <td>11</td>\n      <td>32</td>\n      <td>35</td>\n      <td>40</td>\n      <td>41</td>\n      <td>48</td>\n    </tr>\n    <tr>\n      <th>18</th>\n      <td>2628</td>\n      <td>02/09/2023</td>\n      <td>5</td>\n      <td>14</td>\n      <td>32</td>\n      <td>40</td>\n      <td>53</td>\n      <td>54</td>\n    </tr>\n    <tr>\n      <th>19</th>\n      <td>2627</td>\n      <td>31/08/2023</td>\n      <td>13</td>\n      <td>25</td>\n      <td>31</td>\n      <td>43</td>\n      <td>57</td>\n      <td>58</td>\n    </tr>\n    <tr>\n      <th>20</th>\n      <td>2626</td>\n      <td>29/08/2023</td>\n      <td>1</td>\n      <td>9</td>\n      <td>13</td>\n      <td>16</td>\n      <td>52</td>\n      <td>59</td>\n    </tr>\n    <tr>\n      <th>21</th>\n      <td>2625</td>\n      <td>26/08/2023</td>\n      <td>9</td>\n      <td>10</td>\n      <td>35</td>\n      <td>44</td>\n      <td>55</td>\n      <td>58</td>\n    </tr>\n    <tr>\n      <th>...</th>\n      <td>...</td>\n      <td>...</td>\n      <td>...</td>\n      <td>...</td>\n      <td>...</td>\n      <td>...</td>\n      <td>...</td>\n      <td>...</td>\n    </tr>\n    <tr>\n      <th>2641</th>\n      <td>5</td>\n      <td>08/04/1996</td>\n      <td>1</td>\n      <td>2</td>\n      <td>6</td>\n      <td>16</td>\n      <td>19</td>\n      <td>46</td>\n    </tr>\n    <tr>\n      <th>2642</th>\n      <td>4</td>\n      <td>01/04/1996</td>\n      <td>1</td>\n      <td>5</td>\n      <td>6</td>\n      <td>27</td>\n      <td>42</td>\n      <td>59</td>\n    </tr>\n    <tr>\n      <th>2643</th>\n      <td>3</td>\n      <td>25/03/1996</td>\n      <td>10</td>\n      <td>11</td>\n      <td>29</td>\n      <td>30</td>\n      <td>36</td>\n      <td>47</td>\n    </tr>\n    <tr>\n      <th>2644</th>\n      <td>2</td>\n      <td>18/03/1996</td>\n      <td>9</td>\n      <td>37</td>\n      <td>39</td>\n      <td>41</td>\n      <td>43</td>\n      <td>49</td>\n    </tr>\n    <tr>\n      <th>2645</th>\n      <td>1</td>\n      <td>11/03/1996</td>\n      <td>4</td>\n      <td>5</td>\n      <td>30</td>\n      <td>33</td>\n      <td>41</td>\n      <td>52</td>\n    </tr>\n  </tbody>\n</table>\n<p>2629 rows × 8 columns</p>\n</div>"
     },
     "execution_count": 37,
     "metadata": {},
     "output_type": "execute_result"
    }
   ],
   "source": [
    "df"
   ],
   "metadata": {
    "collapsed": false,
    "ExecuteTime": {
     "end_time": "2023-10-05T03:07:30.208946400Z",
     "start_time": "2023-10-05T03:07:30.123077400Z"
    }
   },
   "id": "51ca3f3087446f4"
  },
  {
   "cell_type": "code",
   "execution_count": 50,
   "outputs": [],
   "source": [
    "def concatenar_strings(row):\n",
    "    return \"_\".join([str(row['bola 1']), str(row['bola 2']), str(row['bola 3']), str(row['bola 4']), str(row['bola 5']), str(row['bola 6'])])\n",
    "\n",
    "df[\"id_sort\"] = df[[e,r,t,y,u,i]].apply(concatenar_strings, axis=1)"
   ],
   "metadata": {
    "collapsed": false,
    "ExecuteTime": {
     "end_time": "2023-10-05T03:27:41.423961600Z",
     "start_time": "2023-10-05T03:27:41.222686900Z"
    }
   },
   "id": "a780dc05c630ec30"
  },
  {
   "cell_type": "code",
   "execution_count": 51,
   "outputs": [
    {
     "data": {
      "text/plain": "5    Concurso        Data bola 1 bola 2 bola 3 bola 4 bola 5 bola 6  \\\n17       2629  05/09/2023     11     32     35     40     41     48   \n18       2628  02/09/2023      5     14     32     40     53     54   \n19       2627  31/08/2023     13     25     31     43     57     58   \n20       2626  29/08/2023      1      9     13     16     52     59   \n21       2625  26/08/2023      9     10     35     44     55     58   \n...       ...         ...    ...    ...    ...    ...    ...    ...   \n2641        5  08/04/1996      1      2      6     16     19     46   \n2642        4  01/04/1996      1      5      6     27     42     59   \n2643        3  25/03/1996     10     11     29     30     36     47   \n2644        2  18/03/1996      9     37     39     41     43     49   \n2645        1  11/03/1996      4      5     30     33     41     52   \n\n5               id_sort  \n17    11_32_35_40_41_48  \n18     5_14_32_40_53_54  \n19    13_25_31_43_57_58  \n20      1_9_13_16_52_59  \n21     9_10_35_44_55_58  \n...                 ...  \n2641     1_2_6_16_19_46  \n2642     1_5_6_27_42_59  \n2643  10_11_29_30_36_47  \n2644   9_37_39_41_43_49  \n2645    4_5_30_33_41_52  \n\n[2629 rows x 9 columns]",
      "text/html": "<div>\n<style scoped>\n    .dataframe tbody tr th:only-of-type {\n        vertical-align: middle;\n    }\n\n    .dataframe tbody tr th {\n        vertical-align: top;\n    }\n\n    .dataframe thead th {\n        text-align: right;\n    }\n</style>\n<table border=\"1\" class=\"dataframe\">\n  <thead>\n    <tr style=\"text-align: right;\">\n      <th>5</th>\n      <th>Concurso</th>\n      <th>Data</th>\n      <th>bola 1</th>\n      <th>bola 2</th>\n      <th>bola 3</th>\n      <th>bola 4</th>\n      <th>bola 5</th>\n      <th>bola 6</th>\n      <th>id_sort</th>\n    </tr>\n  </thead>\n  <tbody>\n    <tr>\n      <th>17</th>\n      <td>2629</td>\n      <td>05/09/2023</td>\n      <td>11</td>\n      <td>32</td>\n      <td>35</td>\n      <td>40</td>\n      <td>41</td>\n      <td>48</td>\n      <td>11_32_35_40_41_48</td>\n    </tr>\n    <tr>\n      <th>18</th>\n      <td>2628</td>\n      <td>02/09/2023</td>\n      <td>5</td>\n      <td>14</td>\n      <td>32</td>\n      <td>40</td>\n      <td>53</td>\n      <td>54</td>\n      <td>5_14_32_40_53_54</td>\n    </tr>\n    <tr>\n      <th>19</th>\n      <td>2627</td>\n      <td>31/08/2023</td>\n      <td>13</td>\n      <td>25</td>\n      <td>31</td>\n      <td>43</td>\n      <td>57</td>\n      <td>58</td>\n      <td>13_25_31_43_57_58</td>\n    </tr>\n    <tr>\n      <th>20</th>\n      <td>2626</td>\n      <td>29/08/2023</td>\n      <td>1</td>\n      <td>9</td>\n      <td>13</td>\n      <td>16</td>\n      <td>52</td>\n      <td>59</td>\n      <td>1_9_13_16_52_59</td>\n    </tr>\n    <tr>\n      <th>21</th>\n      <td>2625</td>\n      <td>26/08/2023</td>\n      <td>9</td>\n      <td>10</td>\n      <td>35</td>\n      <td>44</td>\n      <td>55</td>\n      <td>58</td>\n      <td>9_10_35_44_55_58</td>\n    </tr>\n    <tr>\n      <th>...</th>\n      <td>...</td>\n      <td>...</td>\n      <td>...</td>\n      <td>...</td>\n      <td>...</td>\n      <td>...</td>\n      <td>...</td>\n      <td>...</td>\n      <td>...</td>\n    </tr>\n    <tr>\n      <th>2641</th>\n      <td>5</td>\n      <td>08/04/1996</td>\n      <td>1</td>\n      <td>2</td>\n      <td>6</td>\n      <td>16</td>\n      <td>19</td>\n      <td>46</td>\n      <td>1_2_6_16_19_46</td>\n    </tr>\n    <tr>\n      <th>2642</th>\n      <td>4</td>\n      <td>01/04/1996</td>\n      <td>1</td>\n      <td>5</td>\n      <td>6</td>\n      <td>27</td>\n      <td>42</td>\n      <td>59</td>\n      <td>1_5_6_27_42_59</td>\n    </tr>\n    <tr>\n      <th>2643</th>\n      <td>3</td>\n      <td>25/03/1996</td>\n      <td>10</td>\n      <td>11</td>\n      <td>29</td>\n      <td>30</td>\n      <td>36</td>\n      <td>47</td>\n      <td>10_11_29_30_36_47</td>\n    </tr>\n    <tr>\n      <th>2644</th>\n      <td>2</td>\n      <td>18/03/1996</td>\n      <td>9</td>\n      <td>37</td>\n      <td>39</td>\n      <td>41</td>\n      <td>43</td>\n      <td>49</td>\n      <td>9_37_39_41_43_49</td>\n    </tr>\n    <tr>\n      <th>2645</th>\n      <td>1</td>\n      <td>11/03/1996</td>\n      <td>4</td>\n      <td>5</td>\n      <td>30</td>\n      <td>33</td>\n      <td>41</td>\n      <td>52</td>\n      <td>4_5_30_33_41_52</td>\n    </tr>\n  </tbody>\n</table>\n<p>2629 rows × 9 columns</p>\n</div>"
     },
     "execution_count": 51,
     "metadata": {},
     "output_type": "execute_result"
    }
   ],
   "source": [
    "df"
   ],
   "metadata": {
    "collapsed": false,
    "ExecuteTime": {
     "end_time": "2023-10-05T03:27:42.373957Z",
     "start_time": "2023-10-05T03:27:42.330860Z"
    }
   },
   "id": "e1fd22dcad8ebd52"
  },
  {
   "cell_type": "code",
   "execution_count": 99,
   "outputs": [
    {
     "data": {
      "text/plain": "['4_37_38_41_47_16_51',\n '4_37_38_41_47_16_20',\n '4_37_38_41_47_16_21',\n '4_37_38_41_47_16_22',\n '4_37_38_41_47_16_24',\n '4_37_38_41_47_16_25',\n '4_37_38_41_47_16_59',\n '4_37_38_41_16_51_20',\n '4_37_38_41_16_51_21',\n '4_37_38_41_16_51_22',\n '4_37_38_41_16_51_24',\n '4_37_38_41_16_51_25',\n '4_37_38_41_16_51_59',\n '4_37_38_41_16_20_21',\n '4_37_38_41_16_20_22',\n '4_37_38_41_16_20_24',\n '4_37_38_41_16_20_25',\n '4_37_38_41_16_20_59',\n '4_37_38_41_16_21_22',\n '4_37_38_41_16_21_24',\n '4_37_38_41_16_21_25',\n '4_37_38_41_16_21_59',\n '4_37_38_41_16_24_25',\n '4_37_38_41_16_24_59',\n '4_37_38_41_16_25_59',\n '37_38_41_47_16_51_20',\n '37_38_41_47_16_51_21',\n '37_38_41_47_16_51_22',\n '37_38_41_47_16_51_24',\n '37_38_41_47_16_51_25',\n '37_38_41_47_16_51_59',\n '37_38_41_47_16_20_21',\n '37_38_41_47_16_20_22',\n '37_38_41_47_16_20_24',\n '37_38_41_47_16_20_25',\n '37_38_41_47_16_20_59',\n '37_38_41_47_16_21_22',\n '37_38_41_47_16_21_24',\n '37_38_41_47_16_21_25',\n '37_38_41_47_16_21_59',\n '37_38_41_47_16_24_25',\n '37_38_41_47_16_24_59',\n '37_38_41_47_16_25_59',\n '37_38_41_16_51_20_21',\n '37_38_41_16_51_20_22',\n '37_38_41_16_51_20_24',\n '37_38_41_16_51_20_25',\n '37_38_41_16_51_20_59',\n '37_38_41_16_51_21_22',\n '37_38_41_16_51_21_24',\n '37_38_41_16_51_21_25',\n '37_38_41_16_51_21_59',\n '37_38_41_16_51_24_25',\n '37_38_41_16_51_24_59',\n '37_38_41_16_51_25_59',\n '37_38_41_16_20_21_22',\n '37_38_41_16_20_21_24',\n '37_38_41_16_20_21_25',\n '37_38_41_16_20_21_59',\n '37_38_41_16_20_24_25',\n '37_38_41_16_20_24_59',\n '37_38_41_16_20_25_59',\n '37_38_41_16_21_24_25',\n '37_38_41_16_21_24_59',\n '37_38_41_16_21_25_59',\n '37_38_41_16_24_25_59']"
     },
     "execution_count": 99,
     "metadata": {},
     "output_type": "execute_result"
    }
   ],
   "source": [
    "([i for i in ids if\n",
    "        # not (\n",
    "        #         (str(i).find(\"_2_\") != -1 \n",
    "        #     or str(i).find(\"2_\") != -1) \n",
    "        #     and (str(i).find(\"3_\") != -1 \n",
    "        #     or str(i).find(\"_3_\") != -1) \n",
    "        #     # and str(i).find(\"_4_\") == -1 \n",
    "        #     and str(i).find(\"21\") != -1 \n",
    "        #     and str(i).find(\"22\") != -1 \n",
    "        #     and str(i).find(\"20\") != -1\n",
    "        # ) \n",
    "        not (\n",
    "            (str(i).find(\"_2_\") != -1 \n",
    "            or str(i).find(\"2_\") != -1) \n",
    "            or (str(i).find(\"3_\") != -1 \n",
    "            or str(i).find(\"_3_\") != -1)\n",
    "        )\n",
    "        and \n",
    "        (\n",
    "            str(i).find(\"37\") != -1\n",
    "            and str(i).find(\"38\") != -1\n",
    "            and str(i).find(\"41\") != -1\n",
    "            and str(i).find(\"16\") != -1\n",
    "\n",
    "     )\n",
    "     ] \n",
    ")"
   ],
   "metadata": {
    "collapsed": false,
    "ExecuteTime": {
     "end_time": "2023-10-05T04:57:30.119000800Z",
     "start_time": "2023-10-05T04:57:30.065205700Z"
    }
   },
   "id": "841a817d7d8df225"
  },
  {
   "cell_type": "code",
   "execution_count": 62,
   "outputs": [],
   "source": [
    "df_1 = df[df[\"id_sort\"].isin(ids)]"
   ],
   "metadata": {
    "collapsed": false,
    "ExecuteTime": {
     "end_time": "2023-10-05T04:29:34.242579200Z",
     "start_time": "2023-10-05T04:29:34.224581300Z"
    }
   },
   "id": "d7003fab5a305c2e"
  },
  {
   "cell_type": "code",
   "execution_count": 70,
   "outputs": [
    {
     "data": {
      "text/plain": "5    Concurso        Data bola 1 bola 2 bola 3 bola 4 bola 5 bola 6  \\\n17       2629  05/09/2023     11     32     35     40     41     48   \n18       2628  02/09/2023      5     14     32     40     53     54   \n19       2627  31/08/2023     13     25     31     43     57     58   \n20       2626  29/08/2023      1      9     13     16     52     59   \n21       2625  26/08/2023      9     10     35     44     55     58   \n...       ...         ...    ...    ...    ...    ...    ...    ...   \n2641        5  08/04/1996      1      2      6     16     19     46   \n2642        4  01/04/1996      1      5      6     27     42     59   \n2643        3  25/03/1996     10     11     29     30     36     47   \n2644        2  18/03/1996      9     37     39     41     43     49   \n2645        1  11/03/1996      4      5     30     33     41     52   \n\n5               id_sort  \n17    11_32_35_40_41_48  \n18     5_14_32_40_53_54  \n19    13_25_31_43_57_58  \n20      1_9_13_16_52_59  \n21     9_10_35_44_55_58  \n...                 ...  \n2641     1_2_6_16_19_46  \n2642     1_5_6_27_42_59  \n2643  10_11_29_30_36_47  \n2644   9_37_39_41_43_49  \n2645    4_5_30_33_41_52  \n\n[1972 rows x 9 columns]",
      "text/html": "<div>\n<style scoped>\n    .dataframe tbody tr th:only-of-type {\n        vertical-align: middle;\n    }\n\n    .dataframe tbody tr th {\n        vertical-align: top;\n    }\n\n    .dataframe thead th {\n        text-align: right;\n    }\n</style>\n<table border=\"1\" class=\"dataframe\">\n  <thead>\n    <tr style=\"text-align: right;\">\n      <th>5</th>\n      <th>Concurso</th>\n      <th>Data</th>\n      <th>bola 1</th>\n      <th>bola 2</th>\n      <th>bola 3</th>\n      <th>bola 4</th>\n      <th>bola 5</th>\n      <th>bola 6</th>\n      <th>id_sort</th>\n    </tr>\n  </thead>\n  <tbody>\n    <tr>\n      <th>17</th>\n      <td>2629</td>\n      <td>05/09/2023</td>\n      <td>11</td>\n      <td>32</td>\n      <td>35</td>\n      <td>40</td>\n      <td>41</td>\n      <td>48</td>\n      <td>11_32_35_40_41_48</td>\n    </tr>\n    <tr>\n      <th>18</th>\n      <td>2628</td>\n      <td>02/09/2023</td>\n      <td>5</td>\n      <td>14</td>\n      <td>32</td>\n      <td>40</td>\n      <td>53</td>\n      <td>54</td>\n      <td>5_14_32_40_53_54</td>\n    </tr>\n    <tr>\n      <th>19</th>\n      <td>2627</td>\n      <td>31/08/2023</td>\n      <td>13</td>\n      <td>25</td>\n      <td>31</td>\n      <td>43</td>\n      <td>57</td>\n      <td>58</td>\n      <td>13_25_31_43_57_58</td>\n    </tr>\n    <tr>\n      <th>20</th>\n      <td>2626</td>\n      <td>29/08/2023</td>\n      <td>1</td>\n      <td>9</td>\n      <td>13</td>\n      <td>16</td>\n      <td>52</td>\n      <td>59</td>\n      <td>1_9_13_16_52_59</td>\n    </tr>\n    <tr>\n      <th>21</th>\n      <td>2625</td>\n      <td>26/08/2023</td>\n      <td>9</td>\n      <td>10</td>\n      <td>35</td>\n      <td>44</td>\n      <td>55</td>\n      <td>58</td>\n      <td>9_10_35_44_55_58</td>\n    </tr>\n    <tr>\n      <th>...</th>\n      <td>...</td>\n      <td>...</td>\n      <td>...</td>\n      <td>...</td>\n      <td>...</td>\n      <td>...</td>\n      <td>...</td>\n      <td>...</td>\n      <td>...</td>\n    </tr>\n    <tr>\n      <th>2641</th>\n      <td>5</td>\n      <td>08/04/1996</td>\n      <td>1</td>\n      <td>2</td>\n      <td>6</td>\n      <td>16</td>\n      <td>19</td>\n      <td>46</td>\n      <td>1_2_6_16_19_46</td>\n    </tr>\n    <tr>\n      <th>2642</th>\n      <td>4</td>\n      <td>01/04/1996</td>\n      <td>1</td>\n      <td>5</td>\n      <td>6</td>\n      <td>27</td>\n      <td>42</td>\n      <td>59</td>\n      <td>1_5_6_27_42_59</td>\n    </tr>\n    <tr>\n      <th>2643</th>\n      <td>3</td>\n      <td>25/03/1996</td>\n      <td>10</td>\n      <td>11</td>\n      <td>29</td>\n      <td>30</td>\n      <td>36</td>\n      <td>47</td>\n      <td>10_11_29_30_36_47</td>\n    </tr>\n    <tr>\n      <th>2644</th>\n      <td>2</td>\n      <td>18/03/1996</td>\n      <td>9</td>\n      <td>37</td>\n      <td>39</td>\n      <td>41</td>\n      <td>43</td>\n      <td>49</td>\n      <td>9_37_39_41_43_49</td>\n    </tr>\n    <tr>\n      <th>2645</th>\n      <td>1</td>\n      <td>11/03/1996</td>\n      <td>4</td>\n      <td>5</td>\n      <td>30</td>\n      <td>33</td>\n      <td>41</td>\n      <td>52</td>\n      <td>4_5_30_33_41_52</td>\n    </tr>\n  </tbody>\n</table>\n<p>1972 rows × 9 columns</p>\n</div>"
     },
     "execution_count": 70,
     "metadata": {},
     "output_type": "execute_result"
    }
   ],
   "source": [
    "l = [20, 21, 22]\n",
    "\n",
    "df[~df[\"id_sort\"].str.contains(\"21\") & ~df[\"id_sort\"].str.contains(\"20\") & ~df[\"id_sort\"].str.contains(\"22\")]"
   ],
   "metadata": {
    "collapsed": false,
    "ExecuteTime": {
     "end_time": "2023-10-05T04:36:55.653583100Z",
     "start_time": "2023-10-05T04:36:55.623942Z"
    }
   },
   "id": "de61e0ebb95368c0"
  },
  {
   "cell_type": "code",
   "execution_count": null,
   "outputs": [],
   "source": [],
   "metadata": {
    "collapsed": false
   },
   "id": "15a00ce05d1e5d91"
  }
 ],
 "metadata": {
  "kernelspec": {
   "display_name": "Python 3",
   "language": "python",
   "name": "python3"
  },
  "language_info": {
   "codemirror_mode": {
    "name": "ipython",
    "version": 2
   },
   "file_extension": ".py",
   "mimetype": "text/x-python",
   "name": "python",
   "nbconvert_exporter": "python",
   "pygments_lexer": "ipython2",
   "version": "2.7.6"
  }
 },
 "nbformat": 4,
 "nbformat_minor": 5
}
