{
 "cells": [
  {
   "cell_type": "markdown",
   "source": [
    "# Avaliando Big O n"
   ],
   "metadata": {
    "collapsed": false
   },
   "id": "bac1d6de06e133de"
  },
  {
   "cell_type": "code",
   "execution_count": 11,
   "outputs": [],
   "source": [
    "def func1(n: int) -> int:\n",
    "    \"\"\"Problema básico, somar os numeros de 0 a n\n",
    "    O(n)\n",
    "    \"\"\"\n",
    "    result = 0\n",
    "    for x in  range(n + 1):\n",
    "        result += x\n",
    "    return result\n"
   ],
   "metadata": {
    "collapsed": false,
    "ExecuteTime": {
     "end_time": "2023-09-29T21:02:09.360382Z",
     "start_time": "2023-09-29T21:02:09.353192700Z"
    }
   },
   "id": "6bc3e48d712243c0"
  },
  {
   "cell_type": "code",
   "execution_count": 12,
   "outputs": [
    {
     "name": "stdout",
     "output_type": "stream",
     "text": [
      "189 ns ± 3.52 ns per loop (mean ± std. dev. of 7 runs, 10,000,000 loops each)\n"
     ]
    }
   ],
   "source": [
    " %%timeit\n",
    "# Executando 1\n",
    "func1(10)"
   ],
   "metadata": {
    "collapsed": false,
    "ExecuteTime": {
     "end_time": "2023-09-29T21:02:25.677279200Z",
     "start_time": "2023-09-29T21:02:10.231706100Z"
    }
   },
   "id": "6ce2fc28ca55b6de"
  },
  {
   "cell_type": "code",
   "execution_count": 13,
   "outputs": [
    {
     "name": "stdout",
     "output_type": "stream",
     "text": [
      "1.34 µs ± 15.4 ns per loop (mean ± std. dev. of 7 runs, 1,000,000 loops each)\n"
     ]
    }
   ],
   "source": [
    " %%timeit\n",
    "# Executando 2\n",
    "func1(100)"
   ],
   "metadata": {
    "collapsed": false,
    "ExecuteTime": {
     "end_time": "2023-09-29T21:02:36.595352100Z",
     "start_time": "2023-09-29T21:02:25.689376200Z"
    }
   },
   "id": "f43e546d61806231"
  },
  {
   "cell_type": "code",
   "execution_count": 14,
   "outputs": [
    {
     "name": "stdout",
     "output_type": "stream",
     "text": [
      "1.72 ms ± 53.4 µs per loop (mean ± std. dev. of 7 runs, 1,000 loops each)\n"
     ]
    }
   ],
   "source": [
    " %%timeit\n",
    "# Executando 3\n",
    "func1(100000)"
   ],
   "metadata": {
    "collapsed": false,
    "ExecuteTime": {
     "end_time": "2023-09-29T21:02:50.454182800Z",
     "start_time": "2023-09-29T21:02:36.595352100Z"
    }
   },
   "id": "f0326f4038692109"
  },
  {
   "cell_type": "code",
   "execution_count": 15,
   "outputs": [],
   "source": [
    "def func2(n: int) -> int:\n",
    "    \"\"\"Melhorando o algoritimo\n",
    "    O(n)\n",
    "    \"\"\"\n",
    "    return sum(range(n+1))\n"
   ],
   "metadata": {
    "collapsed": false,
    "ExecuteTime": {
     "end_time": "2023-09-29T21:03:56.288144500Z",
     "start_time": "2023-09-29T21:03:56.273510600Z"
    }
   },
   "id": "588e54c64fd28a78"
  },
  {
   "cell_type": "code",
   "execution_count": 16,
   "outputs": [
    {
     "name": "stdout",
     "output_type": "stream",
     "text": [
      "116 ns ± 5.18 ns per loop (mean ± std. dev. of 7 runs, 10,000,000 loops each)\n"
     ]
    }
   ],
   "source": [
    "%%timeit\n",
    "# Executando 1\n",
    "func2(10)"
   ],
   "metadata": {
    "collapsed": false,
    "ExecuteTime": {
     "end_time": "2023-09-29T21:04:05.880150100Z",
     "start_time": "2023-09-29T21:03:56.430899600Z"
    }
   },
   "id": "b197d51830d272d3"
  },
  {
   "cell_type": "code",
   "execution_count": 17,
   "outputs": [
    {
     "name": "stdout",
     "output_type": "stream",
     "text": [
      "395 ns ± 16.2 ns per loop (mean ± std. dev. of 7 runs, 1,000,000 loops each)\n"
     ]
    }
   ],
   "source": [
    "%%timeit\n",
    "# Executando 2\n",
    "func2(100)"
   ],
   "metadata": {
    "collapsed": false,
    "ExecuteTime": {
     "end_time": "2023-09-29T21:04:09.119017900Z",
     "start_time": "2023-09-29T21:04:05.880150100Z"
    }
   },
   "id": "7fac98a4c48eea47"
  },
  {
   "cell_type": "code",
   "execution_count": 18,
   "outputs": [
    {
     "name": "stdout",
     "output_type": "stream",
     "text": [
      "574 µs ± 18.8 µs per loop (mean ± std. dev. of 7 runs, 1,000 loops each)\n"
     ]
    }
   ],
   "source": [
    "%%timeit\n",
    "# Executando 3\n",
    "func2(100000)"
   ],
   "metadata": {
    "collapsed": false,
    "ExecuteTime": {
     "end_time": "2023-09-29T21:04:13.826516300Z",
     "start_time": "2023-09-29T21:04:09.119017900Z"
    }
   },
   "id": "793c8d535dbf290d"
  },
  {
   "cell_type": "code",
   "execution_count": 19,
   "outputs": [],
   "source": [
    "def func3(n: int) -> int:\n",
    "    \"\"\"Este é um algoritimo onde o poder da matemática se prova\n",
    "    O(1)\n",
    "    \"\"\"\n",
    "    return (n * (n + 1)) /2\n"
   ],
   "metadata": {
    "collapsed": false,
    "ExecuteTime": {
     "end_time": "2023-09-29T21:04:16.103985700Z",
     "start_time": "2023-09-29T21:04:16.061184200Z"
    }
   },
   "id": "906249210a51ae47"
  },
  {
   "cell_type": "code",
   "execution_count": 20,
   "outputs": [
    {
     "name": "stdout",
     "output_type": "stream",
     "text": [
      "35.9 ns ± 1.52 ns per loop (mean ± std. dev. of 7 runs, 10,000,000 loops each)\n"
     ]
    }
   ],
   "source": [
    "%%timeit\n",
    "# Executando 1\n",
    "func3(10)"
   ],
   "metadata": {
    "collapsed": false,
    "ExecuteTime": {
     "end_time": "2023-09-29T21:04:19.613713300Z",
     "start_time": "2023-09-29T21:04:16.604670200Z"
    }
   },
   "id": "2f78e77ce3487b26"
  },
  {
   "cell_type": "code",
   "execution_count": 21,
   "outputs": [
    {
     "name": "stdout",
     "output_type": "stream",
     "text": [
      "38 ns ± 2 ns per loop (mean ± std. dev. of 7 runs, 10,000,000 loops each)\n"
     ]
    }
   ],
   "source": [
    "%%timeit\n",
    "# Executando 1\n",
    "func3(100)"
   ],
   "metadata": {
    "collapsed": false,
    "ExecuteTime": {
     "end_time": "2023-09-29T21:04:34.681233200Z",
     "start_time": "2023-09-29T21:04:31.596508500Z"
    }
   },
   "id": "f957076cd0d6c095"
  },
  {
   "cell_type": "code",
   "execution_count": 22,
   "outputs": [
    {
     "name": "stdout",
     "output_type": "stream",
     "text": [
      "40.5 ns ± 0.893 ns per loop (mean ± std. dev. of 7 runs, 10,000,000 loops each)\n"
     ]
    }
   ],
   "source": [
    "%%timeit\n",
    "# Executando 1\n",
    "func3(100000)"
   ],
   "metadata": {
    "collapsed": false,
    "ExecuteTime": {
     "end_time": "2023-09-29T21:04:38.007944800Z",
     "start_time": "2023-09-29T21:04:34.680990900Z"
    }
   },
   "id": "2389a42ea0cbccdb"
  },
  {
   "cell_type": "markdown",
   "source": [
    "# Conclusão\n",
    "\n",
    "As funções func1, func2 e func3 são implementações diferentes para resolver o mesmo problema de somar os números de 0 a n. \n",
    "- A função func1 utiliza um loop for para percorrer os números de 0 a n e somá-los. O tempo de execução dessa função é proporcional a n, ou seja, possui complexidade O(n). Isso significa que o tempo de execução aumenta linearmente com o tamanho da entrada.\n",
    "- A função func2 utiliza a função sum juntamente com a função range para calcular a soma dos números de 0 a n. Essa implementação é mais eficiente do que a função func1, pois a função sum é otimizada para realizar somas de sequências de números. O tempo de execução também é proporcional a n, ou seja, possui complexidade O(n).\n",
    "- A função func3 utiliza uma fórmula matemática para calcular diretamente a soma dos números de 0 a n. Essa implementação é a mais eficiente das três, pois não requer um loop ou a criação de uma sequência de números. O tempo de execução é constante, independentemente do valor de n, ou seja, possui complexidade O(1).\n",
    "\n",
    "O desempenho apresentado pelas funções avaliadas com o comando timeit complementam a constatação de eficiencia de um algoritimo O(1) vs algoritimos O(n).\n",
    "\n",
    "Thiago Sabará - 29/09/2023"
   ],
   "metadata": {
    "collapsed": false
   },
   "id": "c32cccc68e28d205"
  }
 ],
 "metadata": {
  "kernelspec": {
   "display_name": "Python 3",
   "language": "python",
   "name": "python3"
  },
  "language_info": {
   "codemirror_mode": {
    "name": "ipython",
    "version": 2
   },
   "file_extension": ".py",
   "mimetype": "text/x-python",
   "name": "python",
   "nbconvert_exporter": "python",
   "pygments_lexer": "ipython2",
   "version": "2.7.6"
  }
 },
 "nbformat": 4,
 "nbformat_minor": 5
}
