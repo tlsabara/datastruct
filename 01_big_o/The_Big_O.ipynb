{
 "cells": [
  {
   "cell_type": "markdown",
   "source": [
    "# Big O\n",
    "\n",
    "aqyui vamos explorar os diferentes níveis do Big O.\n",
    "Usaremos como base uma lista, e aplicaremos diferentes algoritimos de diferentes níveis."
   ],
   "metadata": {
    "collapsed": false
   },
   "id": "27342f00450788d8"
  },
  {
   "cell_type": "code",
   "execution_count": 1,
   "outputs": [],
   "source": [
    "my_list = [1, 23, 44, 'Carro', 'Casa', 'Bola', {'nome': 'Thiago', 'idade': 31}, 1.534, 93.43]"
   ],
   "metadata": {
    "collapsed": false,
    "ExecuteTime": {
     "end_time": "2023-09-30T01:06:43.598956900Z",
     "start_time": "2023-09-30T01:06:43.595902200Z"
    }
   },
   "id": "b5d818f8ad94f330"
  },
  {
   "cell_type": "markdown",
   "source": [
    "### Big O(1) - Constant\n",
    "\n",
    "São algoritimos que apresentam um processo definido e igual, independente do input N.\n"
   ],
   "metadata": {
    "collapsed": false
   },
   "id": "b64b620c6a6dcde"
  },
  {
   "cell_type": "code",
   "execution_count": 2,
   "outputs": [],
   "source": [
    "def myfunc1(l: list) -> str:\n",
    "    \"\"\"Esta função recebe uma lista e avalia o tamanho dela para retornar uma mensagemn.\n",
    "    \n",
    "    Complexidade em O(1) - Constante\n",
    "    \"\"\"\n",
    "    if len(l) >= 8 and hasattr(l, '__iter__'):\n",
    "        l.append(\"Catapinbas\")\n",
    "        return \"O iterável é grande.\"\n",
    "    elif hasattr(l, '__iter__'):\n",
    "        l.append(\"Shablaus!\")\n",
    "        return  \"O iterável é pequeno.\"\n",
    "    else:\n",
    "        return \"Não é um iterável\""
   ],
   "metadata": {
    "collapsed": false,
    "ExecuteTime": {
     "end_time": "2023-09-30T01:27:34.166723700Z",
     "start_time": "2023-09-30T01:27:34.119051400Z"
    }
   },
   "id": "50c976ce59f05a8e"
  },
  {
   "cell_type": "markdown",
   "source": [
    "### Big O(N) - Linear\n",
    "\n",
    "São algoritimos que apresentam um processo com um numero variável, dependente do valor input N.\n"
   ],
   "metadata": {
    "collapsed": false
   },
   "id": "33677416608f9735"
  },
  {
   "cell_type": "code",
   "execution_count": 1,
   "outputs": [],
   "source": [
    "def myfunc2(l: list) -> list:\n",
    "    \"\"\"\"Esta função avalia a lista passada e retorna o tipo de cada elemento em cada posição\n",
    "    \n",
    "    Complexidade em O(n) - Linear\n",
    "    \"\"\"\n",
    "    types_list = []\n",
    "    for el in l:\n",
    "        types_list.append(type(el))\n",
    "    return types_list\n",
    "    "
   ],
   "metadata": {
    "collapsed": false,
    "ExecuteTime": {
     "end_time": "2023-09-30T14:58:50.279280800Z",
     "start_time": "2023-09-30T14:58:50.211906500Z"
    }
   },
   "id": "25af677009c1a02f"
  },
  {
   "cell_type": "markdown",
   "source": [
    "."
   ],
   "metadata": {
    "collapsed": false
   },
   "id": "b65e08d69697422f"
  },
  {
   "cell_type": "code",
   "execution_count": null,
   "outputs": [],
   "source": [],
   "metadata": {
    "collapsed": false
   },
   "id": "4cb90cd85df68612"
  }
 ],
 "metadata": {
  "kernelspec": {
   "display_name": "Python 3",
   "language": "python",
   "name": "python3"
  },
  "language_info": {
   "codemirror_mode": {
    "name": "ipython",
    "version": 2
   },
   "file_extension": ".py",
   "mimetype": "text/x-python",
   "name": "python",
   "nbconvert_exporter": "python",
   "pygments_lexer": "ipython2",
   "version": "2.7.6"
  }
 },
 "nbformat": 4,
 "nbformat_minor": 5
}
