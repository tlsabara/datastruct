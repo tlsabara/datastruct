{
 "cells": [
  {
   "cell_type": "markdown",
   "source": [
    "# Big O\n",
    "\n",
    "aqyui vamos explorar os diferentes níveis do Big O.\n",
    "Usaremos como base uma lista, e aplicaremos diferentes algoritimos de diferentes níveis."
   ],
   "metadata": {
    "collapsed": false
   },
   "id": "27342f00450788d8"
  },
  {
   "cell_type": "code",
   "execution_count": 2,
   "outputs": [],
   "source": [
    "my_list = [1, 23, 44, 'Carro', 'Casa', 'Bola', {'nome': 'Thiago', 'idade': 31}, 1.534, 93.43]"
   ],
   "metadata": {
    "collapsed": false,
    "ExecuteTime": {
     "end_time": "2023-09-30T19:44:31.566372900Z",
     "start_time": "2023-09-30T19:44:31.554491900Z"
    }
   },
   "id": "b5d818f8ad94f330"
  },
  {
   "cell_type": "markdown",
   "source": [
    "### Big O(1) - Constant\n",
    "\n",
    "São algoritimos que apresentam um processo definido e igual, independente do input N.\n"
   ],
   "metadata": {
    "collapsed": false
   },
   "id": "b64b620c6a6dcde"
  },
  {
   "cell_type": "code",
   "execution_count": 3,
   "outputs": [],
   "source": [
    "def myfunc1(l: list) -> str:\n",
    "    \"\"\"Esta função recebe uma lista e avalia o tamanho dela para retornar uma mensagemn.\n",
    "    \n",
    "    Complexidade em O(1) - Constante\n",
    "    \"\"\"\n",
    "    if len(l) >= 8 and hasattr(l, '__iter__'):\n",
    "        l.append(\"Catapinbas\")\n",
    "        return \"O iterável é grande.\"\n",
    "    elif hasattr(l, '__iter__'):\n",
    "        l.append(\"Shablaus!\")\n",
    "        return  \"O iterável é pequeno.\"\n",
    "    else:\n",
    "        return \"Não é um iterável\""
   ],
   "metadata": {
    "collapsed": false,
    "ExecuteTime": {
     "end_time": "2023-09-30T19:44:33.469387100Z",
     "start_time": "2023-09-30T19:44:33.466387Z"
    }
   },
   "id": "50c976ce59f05a8e"
  },
  {
   "cell_type": "code",
   "execution_count": null,
   "outputs": [],
   "source": [
    "#Execução\n",
    "\n",
    "myfunc1(my_list)"
   ],
   "metadata": {
    "collapsed": false
   },
   "id": "41baa92d25956bcc"
  },
  {
   "cell_type": "markdown",
   "source": [
    "### Big O(N) - Linear\n",
    "\n",
    "São algoritimos que apresentam um processo com um numero variável, dependente do valor input N.\n"
   ],
   "metadata": {
    "collapsed": false
   },
   "id": "33677416608f9735"
  },
  {
   "cell_type": "code",
   "execution_count": 8,
   "outputs": [],
   "source": [
    "def myfunc2(l: list) -> list:\n",
    "    \"\"\"\"Esta função avalia a lista passada e retorna o tipo de cada elemento em cada posição\n",
    "    \n",
    "    Complexidade em O(n) - Linear\n",
    "    \"\"\"\n",
    "    types_list = []\n",
    "    for el in l:\n",
    "        types_list.append(type(el))\n",
    "    return types_list\n",
    "    "
   ],
   "metadata": {
    "collapsed": false,
    "ExecuteTime": {
     "end_time": "2023-09-30T19:44:54.360334800Z",
     "start_time": "2023-09-30T19:44:54.310660500Z"
    }
   },
   "id": "25af677009c1a02f"
  },
  {
   "cell_type": "code",
   "execution_count": null,
   "outputs": [],
   "source": [
    "#Execução\n",
    "\n",
    "myfunc2(my_list)"
   ],
   "metadata": {
    "collapsed": false
   },
   "id": "f22c024f0534f4ff"
  },
  {
   "cell_type": "markdown",
   "source": [
    "### Big O(N^2) - Quadrática\n",
    "\n",
    "São algoritimos que apresentam um processo com um numero variável, com complexidade exponencial de N em 2"
   ],
   "metadata": {
    "collapsed": false
   },
   "id": "b65e08d69697422f"
  },
  {
   "cell_type": "code",
   "execution_count": 12,
   "outputs": [],
   "source": [
    "def myfunc3(l: list) -> list:\n",
    "    \"\"\"Esta função avalia a lista e realiza prints com base no len de cada elemento da lista \n",
    "    \n",
    "    Complexidade em O(N^2) - Quadrática\n",
    "    \"\"\"\n",
    "    for el in l:\n",
    "        for x in range(len(str(el))):\n",
    "            print(el, x)"
   ],
   "metadata": {
    "collapsed": false,
    "ExecuteTime": {
     "end_time": "2023-09-30T19:48:58.127724700Z",
     "start_time": "2023-09-30T19:48:58.101675700Z"
    }
   },
   "id": "4cb90cd85df68612"
  },
  {
   "cell_type": "code",
   "execution_count": null,
   "outputs": [],
   "source": [
    "#Execução\n",
    "\n",
    "myfunc3(my_list)"
   ],
   "metadata": {
    "collapsed": false
   },
   "id": "d55b0a435ecd45ba"
  },
  {
   "cell_type": "markdown",
   "source": [
    "### Big O - Avaliação\n",
    "\n",
    "São algoritimos que apresentam um processo com um numero variável, com complexidade exponencial de N em 2\n"
   ],
   "metadata": {
    "collapsed": false
   },
   "id": "5f3656d089f22f73"
  },
  {
   "cell_type": "code",
   "execution_count": 1,
   "outputs": [],
   "source": [
    "def myfunc4(l: list) -> list:\n",
    "    print(l[0])\n",
    "    \n",
    "    for i in range(3):\n",
    "        print(l[i])\n",
    "        \n",
    "    for el in l:\n",
    "        print(el * 2)\n",
    "        \n",
    "    for el in l:\n",
    "        print(el * 3)\n",
    "    print(\"Python rules...\")\n",
    "        "
   ],
   "metadata": {
    "collapsed": false,
    "ExecuteTime": {
     "end_time": "2023-09-30T21:05:07.408716100Z",
     "start_time": "2023-09-30T21:05:07.354961600Z"
    }
   },
   "id": "30e0c047f3ef5d6d"
  },
  {
   "cell_type": "markdown",
   "source": [
    "Neste caso a notação Big O para esta função é de O(N)"
   ],
   "metadata": {
    "collapsed": false
   },
   "id": "3b74a63a78332670"
  }
 ],
 "metadata": {
  "kernelspec": {
   "display_name": "Python 3",
   "language": "python",
   "name": "python3"
  },
  "language_info": {
   "codemirror_mode": {
    "name": "ipython",
    "version": 2
   },
   "file_extension": ".py",
   "mimetype": "text/x-python",
   "name": "python",
   "nbconvert_exporter": "python",
   "pygments_lexer": "ipython2",
   "version": "2.7.6"
  }
 },
 "nbformat": 4,
 "nbformat_minor": 5
}
