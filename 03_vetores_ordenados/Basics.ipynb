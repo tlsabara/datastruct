{
 "cells": [
  {
   "cell_type": "markdown",
   "source": [
    "# Vetores Ordenados\n",
    "\n",
    "Os vetores ordenados, organizam de forma sequencial os dados em suas posiçÕes, sempre que é inserido há uma avaliação da posição onde os dados devem ser inseridos.\n",
    "\n",
    "A principal vantagem é o tempo de pesquisa.\n",
    "\n",
    "Tem também a pesquisa binária que tem suas vantagens de performance.\n"
   ],
   "metadata": {
    "collapsed": false
   },
   "id": "96e9b5b963390c8d"
  },
  {
   "cell_type": "code",
   "execution_count": 1,
   "outputs": [],
   "source": [
    "from bases import OrdenedVector"
   ],
   "metadata": {
    "collapsed": false,
    "ExecuteTime": {
     "end_time": "2023-10-03T02:41:37.082838800Z",
     "start_time": "2023-10-03T02:41:36.996847300Z"
    }
   },
   "id": "a56d0374dec56122"
  },
  {
   "cell_type": "code",
   "execution_count": 2,
   "outputs": [],
   "source": [
    "v = OrdenedVector(5)"
   ],
   "metadata": {
    "collapsed": false,
    "ExecuteTime": {
     "end_time": "2023-10-03T02:41:37.088389700Z",
     "start_time": "2023-10-03T02:41:37.080310900Z"
    }
   },
   "id": "330ef77bd9a03d3b"
  },
  {
   "cell_type": "code",
   "execution_count": 3,
   "outputs": [
    {
     "data": {
      "text/plain": "'[POS 0]: 2\\n'"
     },
     "execution_count": 3,
     "metadata": {},
     "output_type": "execute_result"
    }
   ],
   "source": [
    "v.insert(2)\n",
    "v.show_values()"
   ],
   "metadata": {
    "collapsed": false,
    "ExecuteTime": {
     "end_time": "2023-10-03T02:41:37.153954500Z",
     "start_time": "2023-10-03T02:41:37.088389700Z"
    }
   },
   "id": "dc2a6d5565e6a7b3"
  },
  {
   "cell_type": "code",
   "execution_count": 4,
   "outputs": [
    {
     "ename": "IndexError",
     "evalue": "O limite do vetor foi aringido",
     "output_type": "error",
     "traceback": [
      "\u001B[0;31m---------------------------------------------------------------------------\u001B[0m",
      "\u001B[0;31mIndexError\u001B[0m                                Traceback (most recent call last)",
      "Cell \u001B[0;32mIn[4], line 1\u001B[0m\n\u001B[0;32m----> 1\u001B[0m \u001B[43mv\u001B[49m\u001B[38;5;241;43m.\u001B[39;49m\u001B[43minsert\u001B[49m\u001B[43m(\u001B[49m\u001B[38;5;241;43m5\u001B[39;49m\u001B[43m)\u001B[49m\n",
      "File \u001B[0;32m~/git_unix/datastruct/03_vetores_ordenados/bases.py:46\u001B[0m, in \u001B[0;36mOrdenedVector.insert\u001B[0;34m(self, value)\u001B[0m\n\u001B[1;32m     44\u001B[0m     \u001B[38;5;28mself\u001B[39m\u001B[38;5;241m.\u001B[39mlast_pos \u001B[38;5;241m=\u001B[39m \u001B[38;5;241m0\u001B[39m\n\u001B[1;32m     45\u001B[0m \u001B[38;5;28;01melse\u001B[39;00m:\n\u001B[0;32m---> 46\u001B[0m     \u001B[38;5;28;01mraise\u001B[39;00m \u001B[38;5;167;01mIndexError\u001B[39;00m(\u001B[38;5;124m\"\u001B[39m\u001B[38;5;124mO limite do vetor foi aringido\u001B[39m\u001B[38;5;124m\"\u001B[39m)\n",
      "\u001B[0;31mIndexError\u001B[0m: O limite do vetor foi aringido"
     ]
    }
   ],
   "source": [
    "v.insert(5)"
   ],
   "metadata": {
    "collapsed": false,
    "ExecuteTime": {
     "end_time": "2023-10-03T02:41:48.004105400Z",
     "start_time": "2023-10-03T02:41:47.972871500Z"
    }
   },
   "id": "6d3c6cae57e0ad57"
  },
  {
   "cell_type": "code",
   "execution_count": null,
   "outputs": [],
   "source": [],
   "metadata": {
    "collapsed": false
   },
   "id": "3cde0cee3840a3d3"
  }
 ],
 "metadata": {
  "kernelspec": {
   "display_name": "Python 3",
   "language": "python",
   "name": "python3"
  },
  "language_info": {
   "codemirror_mode": {
    "name": "ipython",
    "version": 2
   },
   "file_extension": ".py",
   "mimetype": "text/x-python",
   "name": "python",
   "nbconvert_exporter": "python",
   "pygments_lexer": "ipython2",
   "version": "2.7.6"
  }
 },
 "nbformat": 4,
 "nbformat_minor": 5
}
