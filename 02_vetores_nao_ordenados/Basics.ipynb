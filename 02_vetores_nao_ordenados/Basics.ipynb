{
 "cells": [
  {
   "cell_type": "markdown",
   "source": [
    "# Vetores não ordenados\n",
    "\n",
    "Vetores não ordenados são estruturas que não são armazenados dados com base em nenhuma ordem. Esta condição tem um impacto direto sobre os metodos de procura, exclusão e inserçao dentro do vetor.\n",
    "\n",
    "Ainda neste tipo de estrutura de dados temos vetores de identificadores unicos(que não permitem ter dados duplicados em sua estrutura) e vetores de valores multiplos (que podem ter valores repetidos em suia estrutura). \n"
   ],
   "metadata": {
    "collapsed": false
   },
   "id": "8acefc2fb22eea9e"
  },
  {
   "cell_type": "markdown",
   "source": [
    "## Implementação\n",
    "\n",
    "A classe base esta em outro arquivo para uma melhor organização."
   ],
   "metadata": {
    "collapsed": false
   },
   "id": "fd4f2b6bca4f953"
  },
  {
   "cell_type": "code",
   "execution_count": 1,
   "outputs": [],
   "source": [
    "from bases_vectors import UnordenetVector\n"
   ],
   "metadata": {
    "collapsed": false,
    "ExecuteTime": {
     "end_time": "2023-10-02T01:57:57.912866300Z",
     "start_time": "2023-10-02T01:57:57.772988800Z"
    }
   },
   "id": "519125a607860b3d"
  },
  {
   "cell_type": "code",
   "execution_count": 7,
   "outputs": [],
   "source": [
    "# instanciando\n",
    "\n",
    "v = UnordenedVector(5)"
   ],
   "metadata": {
    "collapsed": false,
    "ExecuteTime": {
     "end_time": "2023-10-02T01:58:15.288565100Z",
     "start_time": "2023-10-02T01:58:15.282Z"
    }
   },
   "id": "d78ffb1b55fbf73b"
  },
  {
   "cell_type": "code",
   "execution_count": 8,
   "outputs": [
    {
     "name": "stdout",
     "output_type": "stream",
     "text": [
      "O Vetor está vazio\n"
     ]
    }
   ],
   "source": [
    "# Mostrando o vetor vazio\n",
    "\n",
    "print(v.show_values())"
   ],
   "metadata": {
    "collapsed": false,
    "ExecuteTime": {
     "end_time": "2023-10-02T01:58:15.441773Z",
     "start_time": "2023-10-02T01:58:15.432814Z"
    }
   },
   "id": "18e920c57f489a1e"
  },
  {
   "cell_type": "code",
   "execution_count": 5,
   "outputs": [],
   "source": [
    "# Adição BRUTA (pelo numpy e não pela classe)\n",
    "v.values[2] = 11\n",
    "v.last_pos = 4"
   ],
   "metadata": {
    "collapsed": false,
    "ExecuteTime": {
     "end_time": "2023-10-02T01:58:10.995442200Z",
     "start_time": "2023-10-02T01:58:10.980910300Z"
    }
   },
   "id": "dff94a159c6ad3c1"
  },
  {
   "cell_type": "code",
   "execution_count": 6,
   "outputs": [
    {
     "name": "stdout",
     "output_type": "stream",
     "text": [
      "[POS 0]: 139921512259344\n",
      "[POS 1]: 0\n",
      "[POS 2]: 11\n",
      "[POS 3]: 30328640\n",
      "[POS 4]: 24846848\n"
     ]
    }
   ],
   "source": [
    "# Mostrando o vetor com dados\n",
    "\n",
    "print(v.show_values())"
   ],
   "metadata": {
    "collapsed": false,
    "ExecuteTime": {
     "end_time": "2023-10-02T01:58:11.645321Z",
     "start_time": "2023-10-02T01:58:11.639962600Z"
    }
   },
   "id": "4fefeed55b90261f"
  },
  {
   "cell_type": "code",
   "execution_count": 9,
   "outputs": [],
   "source": [
    "# Inserindo dados no vetor, pela interface implementada.\n",
    "\n",
    "v.insert(2)\n",
    "v.insert(44)\n",
    "v.insert(11)\n",
    "v.insert(3)"
   ],
   "metadata": {
    "collapsed": false,
    "ExecuteTime": {
     "end_time": "2023-10-02T01:58:18.353858200Z",
     "start_time": "2023-10-02T01:58:18.349563800Z"
    }
   },
   "id": "5ba80f87fb32a114"
  },
  {
   "cell_type": "code",
   "execution_count": 10,
   "outputs": [
    {
     "name": "stdout",
     "output_type": "stream",
     "text": [
      "[POS 0]: 2\n",
      "[POS 1]: 44\n",
      "[POS 2]: 11\n",
      "[POS 3]: 3\n"
     ]
    }
   ],
   "source": [
    "# Imprimindo o vetor\n",
    "\n",
    "print(v.show_values())"
   ],
   "metadata": {
    "collapsed": false,
    "ExecuteTime": {
     "end_time": "2023-10-02T01:58:18.515029700Z",
     "start_time": "2023-10-02T01:58:18.511017400Z"
    }
   },
   "id": "28c8eb9e6f51e74b"
  },
  {
   "cell_type": "code",
   "execution_count": 11,
   "outputs": [
    {
     "ename": "ValueError",
     "evalue": "invalid literal for int() with base 10: 'Carro'",
     "output_type": "error",
     "traceback": [
      "\u001B[0;31m---------------------------------------------------------------------------\u001B[0m",
      "\u001B[0;31mValueError\u001B[0m                                Traceback (most recent call last)",
      "Cell \u001B[0;32mIn[11], line 1\u001B[0m\n\u001B[0;32m----> 1\u001B[0m \u001B[43mv\u001B[49m\u001B[38;5;241;43m.\u001B[39;49m\u001B[43minsert\u001B[49m\u001B[43m(\u001B[49m\u001B[38;5;124;43m\"\u001B[39;49m\u001B[38;5;124;43mCarro\u001B[39;49m\u001B[38;5;124;43m\"\u001B[39;49m\u001B[43m)\u001B[49m\n",
      "File \u001B[0;32m~/git_unix/datastruct/02_vetores_nao_ordenados/bases_vectors.py:32\u001B[0m, in \u001B[0;36mUnordenetVector.insert\u001B[0;34m(self, add_value)\u001B[0m\n\u001B[1;32m     30\u001B[0m \u001B[38;5;28;01mif\u001B[39;00m \u001B[38;5;28mself\u001B[39m\u001B[38;5;241m.\u001B[39mlast_pos \u001B[38;5;241m<\u001B[39m \u001B[38;5;28mself\u001B[39m\u001B[38;5;241m.\u001B[39msize:\n\u001B[1;32m     31\u001B[0m     \u001B[38;5;28mself\u001B[39m\u001B[38;5;241m.\u001B[39mlast_pos \u001B[38;5;241m+\u001B[39m\u001B[38;5;241m=\u001B[39m \u001B[38;5;241m1\u001B[39m\n\u001B[0;32m---> 32\u001B[0m     \u001B[38;5;28;43mself\u001B[39;49m\u001B[38;5;241;43m.\u001B[39;49m\u001B[43mvalues\u001B[49m\u001B[43m[\u001B[49m\u001B[38;5;28;43mself\u001B[39;49m\u001B[38;5;241;43m.\u001B[39;49m\u001B[43mlast_pos\u001B[49m\u001B[43m]\u001B[49m \u001B[38;5;241m=\u001B[39m add_value\n\u001B[1;32m     33\u001B[0m \u001B[38;5;28;01melse\u001B[39;00m:\n\u001B[1;32m     34\u001B[0m     \u001B[38;5;28;01mraise\u001B[39;00m \u001B[38;5;167;01mIndexError\u001B[39;00m(\u001B[38;5;124m\"\u001B[39m\u001B[38;5;124mO limite do vetor foi atingido.\u001B[39m\u001B[38;5;124m\"\u001B[39m)\n",
      "\u001B[0;31mValueError\u001B[0m: invalid literal for int() with base 10: 'Carro'"
     ]
    }
   ],
   "source": [
    "# Tentando inserir um dado não numerico no vetor.... Resulta em erro.\n",
    "\n",
    "v.insert(\"Carro\")"
   ],
   "metadata": {
    "collapsed": false,
    "ExecuteTime": {
     "end_time": "2023-10-01T23:06:44.406836Z",
     "start_time": "2023-10-01T23:06:44.404689600Z"
    }
   },
   "id": "16861ffbd1472927"
  },
  {
   "cell_type": "code",
   "execution_count": 11,
   "outputs": [
    {
     "data": {
      "text/plain": "-1"
     },
     "execution_count": 11,
     "metadata": {},
     "output_type": "execute_result"
    }
   ],
   "source": [
    "# Método de procura do vetor, com um valor inválido\n",
    "v.linear_search(55)"
   ],
   "metadata": {
    "collapsed": false,
    "ExecuteTime": {
     "end_time": "2023-10-02T01:58:22.627107700Z",
     "start_time": "2023-10-02T01:58:22.621655100Z"
    }
   },
   "id": "858941f46f962dc5"
  },
  {
   "cell_type": "code",
   "execution_count": 12,
   "outputs": [
    {
     "data": {
      "text/plain": "2"
     },
     "execution_count": 12,
     "metadata": {},
     "output_type": "execute_result"
    }
   ],
   "source": [
    "# Método de procura no vetor com um valor contido no vetor, retorna a posição encontrada\n",
    "\n",
    "v.linear_search(11)"
   ],
   "metadata": {
    "collapsed": false,
    "ExecuteTime": {
     "end_time": "2023-10-02T01:58:22.834750100Z",
     "start_time": "2023-10-02T01:58:22.829235300Z"
    }
   },
   "id": "9e614e00e5da73f4"
  },
  {
   "cell_type": "code",
   "execution_count": 13,
   "outputs": [
    {
     "data": {
      "text/plain": "2"
     },
     "execution_count": 13,
     "metadata": {},
     "output_type": "execute_result"
    }
   ],
   "source": [
    "# Implementei algumas interfaces para que o vetor se comporte de forma sililar a uma lista do python com slice e index\n",
    "\n",
    "len(v[0:2])"
   ],
   "metadata": {
    "collapsed": false,
    "ExecuteTime": {
     "end_time": "2023-10-02T01:58:24.322179300Z",
     "start_time": "2023-10-02T01:58:24.314148400Z"
    }
   },
   "id": "e030b08b319dae4b"
  },
  {
   "cell_type": "code",
   "execution_count": 14,
   "outputs": [
    {
     "name": "stdout",
     "output_type": "stream",
     "text": [
      "[POS 0]: 44\n",
      "[POS 1]: 11\n",
      "[POS 2]: 3\n"
     ]
    }
   ],
   "source": [
    "# Excluindo um item do vetor\n",
    "v.exclude(11)\n",
    "print(v.show_values())"
   ],
   "metadata": {
    "collapsed": false,
    "ExecuteTime": {
     "end_time": "2023-10-02T01:58:25.597212200Z",
     "start_time": "2023-10-02T01:58:25.579079Z"
    }
   },
   "id": "2c2f87edac1db3ac"
  },
  {
   "cell_type": "code",
   "execution_count": 15,
   "outputs": [
    {
     "name": "stdout",
     "output_type": "stream",
     "text": [
      "[POS 0]: 44\n",
      "[POS 1]: 11\n",
      "[POS 2]: 3\n"
     ]
    }
   ],
   "source": [
    "# Tentando excluir um item que não existe no vetor\n",
    "v.exclude(5234)\n",
    "print(v.show_values())"
   ],
   "metadata": {
    "collapsed": false,
    "ExecuteTime": {
     "end_time": "2023-10-02T01:59:55.804683300Z",
     "start_time": "2023-10-02T01:59:55.783864Z"
    }
   },
   "id": "669a7c737f732c7b"
  },
  {
   "cell_type": "code",
   "execution_count": null,
   "outputs": [],
   "source": [],
   "metadata": {
    "collapsed": false
   },
   "id": "14595f4f57b352c4"
  }
 ],
 "metadata": {
  "kernelspec": {
   "display_name": "Python 3",
   "language": "python",
   "name": "python3"
  },
  "language_info": {
   "codemirror_mode": {
    "name": "ipython",
    "version": 2
   },
   "file_extension": ".py",
   "mimetype": "text/x-python",
   "name": "python",
   "nbconvert_exporter": "python",
   "pygments_lexer": "ipython2",
   "version": "2.7.6"
  }
 },
 "nbformat": 4,
 "nbformat_minor": 5
}
